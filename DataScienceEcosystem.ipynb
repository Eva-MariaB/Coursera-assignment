{
 "cells": [
  {
   "cell_type": "markdown",
   "id": "d55b8761-2b2b-43ae-8077-01bf224a4e87",
   "metadata": {},
   "source": [
    "# Data Science Tools and Ecosystem"
   ]
  },
  {
   "cell_type": "markdown",
   "id": "4b9c4b67-db41-49c5-8333-c3500a4819e3",
   "metadata": {},
   "source": [
    "In this notebook, Data Science Tools and Ecosystem are summarized"
   ]
  },
  {
   "cell_type": "markdown",
   "id": "545b3200-e706-4728-8770-8eb1119e2fb0",
   "metadata": {},
   "source": [
    "**Objectives:**"
   ]
  },
  {
   "cell_type": "markdown",
   "id": "675ef722-38f6-4970-865f-f23520658905",
   "metadata": {},
   "source": [
    "- Learn some popular languages that Data Scientists use\n",
    "- Learn some of the commonly used libraries used by Data Scientists\n",
    "- Learn some tools commonly used by Data Scientists"
   ]
  },
  {
   "cell_type": "markdown",
   "id": "a8052089-2cca-409d-bf8c-5f9d0947bf80",
   "metadata": {},
   "source": [
    "Some of the popular languages that Data Scientists use are:\n",
    "1. Python\n",
    "2. R\n",
    "3. Java"
   ]
  },
  {
   "cell_type": "markdown",
   "id": "3b223402-92a6-40fc-a7dd-f6bafafd2ac3",
   "metadata": {},
   "source": [
    "Some of the commonly used libraries used by Data Scientists include:\n",
    "1. Pandas\n",
    "2. NumPy\n",
    "3. SciPy"
   ]
  },
  {
   "cell_type": "markdown",
   "id": "dc8dc9bd-68dc-4686-ace9-5de870d7c848",
   "metadata": {},
   "source": [
    "|Data Science Tools|\n",
    "|-------|\n",
    "|Apache Spark|\n",
    "|Jupyter Notebook|\n",
    "|NumPy|"
   ]
  },
  {
   "cell_type": "markdown",
   "id": "6972b91f-46e6-4907-9ea9-d124243c61aa",
   "metadata": {},
   "source": [
    "### Below are a few examples of evaluating arithmetic expressions in Python"
   ]
  },
  {
   "cell_type": "markdown",
   "id": "35cc2723-daed-4da5-af11-af915b265a31",
   "metadata": {},
   "source": [
    "This a simple arithmetic expression to mutiply then add integers\n"
   ]
  },
  {
   "cell_type": "code",
   "execution_count": 37,
   "id": "e6c368d7-a4de-41ed-9014-fe5d372d8c61",
   "metadata": {},
   "outputs": [
    {
     "data": {
      "text/plain": [
       "17"
      ]
     },
     "execution_count": 37,
     "metadata": {},
     "output_type": "execute_result"
    }
   ],
   "source": [
    "(3*4)+5"
   ]
  },
  {
   "cell_type": "markdown",
   "id": "5e4dd941-b283-4cb4-8bae-ea8c598e11ea",
   "metadata": {},
   "source": [
    "This will convert 200 minutes to hours by diving by 60"
   ]
  },
  {
   "cell_type": "code",
   "execution_count": 40,
   "id": "6bf0742d-6992-4bcb-a4d0-00d15d5a0e56",
   "metadata": {},
   "outputs": [
    {
     "data": {
      "text/plain": [
       "3.3333333333333335"
      ]
     },
     "execution_count": 40,
     "metadata": {},
     "output_type": "execute_result"
    }
   ],
   "source": [
    "200/60"
   ]
  },
  {
   "cell_type": "markdown",
   "id": "6b699e1b-b668-4256-b031-5827d22e9638",
   "metadata": {},
   "source": [
    "## Author"
   ]
  },
  {
   "cell_type": "markdown",
   "id": "2cc7f0f6-8780-4bbf-bf2e-23650ffc1eff",
   "metadata": {},
   "source": [
    "Eva-Maria Breitenbach"
   ]
  },
  {
   "cell_type": "code",
   "execution_count": null,
   "id": "a16f13d6-3433-41b9-8014-dcb50ef1968a",
   "metadata": {},
   "outputs": [],
   "source": []
  }
 ],
 "metadata": {
  "kernelspec": {
   "display_name": "Python 3 (ipykernel)",
   "language": "python",
   "name": "python3"
  },
  "language_info": {
   "codemirror_mode": {
    "name": "ipython",
    "version": 3
   },
   "file_extension": ".py",
   "mimetype": "text/x-python",
   "name": "python",
   "nbconvert_exporter": "python",
   "pygments_lexer": "ipython3",
   "version": "3.12.4"
  }
 },
 "nbformat": 4,
 "nbformat_minor": 5
}
